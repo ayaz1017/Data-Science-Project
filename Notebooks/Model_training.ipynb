{
  "nbformat": 4,
  "nbformat_minor": 0,
  "metadata": {
    "colab": {
      "private_outputs": true,
      "provenance": []
    },
    "kernelspec": {
      "name": "python3",
      "display_name": "Python 3"
    },
    "language_info": {
      "name": "python"
    }
  },
  "cells": [
    {
      "cell_type": "code",
      "execution_count": null,
      "metadata": {
        "id": "XMBp0C2Vii9w"
      },
      "outputs": [],
      "source": [
        "import numpy as np\n",
        "import pandas as pd\n",
        "import matplotlib.pyplot as plt\n",
        "import seaborn as sns\n",
        "# Modelling\n",
        "from sklearn.metrics import mean_squared_error, r2_score\n",
        "from sklearn.neighbors import KNeighborsRegressor\n",
        "from sklearn.tree import DecisionTreeRegressor\n",
        "from sklearn.ensemble import RandomForestRegressor,AdaBoostRegressor\n",
        "from sklearn.svm import SVR\n",
        "from sklearn.linear_model import LinearRegression, Ridge,Lasso\n",
        "from sklearn.metrics import r2_score, mean_absolute_error, mean_squared_error\n",
        "from sklearn.model_selection import RandomizedSearchCV\n",
        "from catboost import CatBoostRegressor\n",
        "from xgboost import XGBRegressor\n",
        "import warnings"
      ]
    },
    {
      "cell_type": "code",
      "source": [],
      "metadata": {
        "id": "bLV7BBMvi8qb"
      },
      "execution_count": null,
      "outputs": []
    },
    {
      "cell_type": "code",
      "metadata": {
        "id": "9d1f66b0"
      },
      "source": [
        "%pip install catboost"
      ],
      "execution_count": null,
      "outputs": []
    },
    {
      "cell_type": "code",
      "source": [
        "import numpy as np\n",
        "import pandas as pd\n",
        "import matplotlib.pyplot as plt\n",
        "import seaborn as sns\n",
        "# Modelling\n",
        "from sklearn.metrics import mean_squared_error, r2_score\n",
        "from sklearn.neighbors import KNeighborsRegressor\n",
        "from sklearn.tree import DecisionTreeRegressor\n",
        "from sklearn.ensemble import RandomForestRegressor,AdaBoostRegressor\n",
        "from sklearn.svm import SVR\n",
        "from sklearn.linear_model import LinearRegression, Ridge,Lasso\n",
        "from sklearn.metrics import r2_score, mean_absolute_error, mean_squared_error\n",
        "from sklearn.model_selection import RandomizedSearchCV\n",
        "from catboost import CatBoostRegressor\n",
        "from xgboost import XGBRegressor\n",
        "import warnings"
      ],
      "metadata": {
        "id": "0raTctaHjbgC"
      },
      "execution_count": null,
      "outputs": []
    },
    {
      "cell_type": "code",
      "source": [
        "df=pd.read_csv('stud.csv')"
      ],
      "metadata": {
        "id": "1D79p_oBjmPi"
      },
      "execution_count": null,
      "outputs": []
    },
    {
      "cell_type": "code",
      "source": [
        "df"
      ],
      "metadata": {
        "id": "EmiQkmcRkNJM"
      },
      "execution_count": null,
      "outputs": []
    },
    {
      "cell_type": "code",
      "source": [
        "X=df.drop(columns=['math_score'],axis=1)"
      ],
      "metadata": {
        "id": "0iEa0WBJkN1H"
      },
      "execution_count": null,
      "outputs": []
    },
    {
      "cell_type": "code",
      "source": [
        "X.head()"
      ],
      "metadata": {
        "id": "x84yXBbbkhES"
      },
      "execution_count": null,
      "outputs": []
    },
    {
      "cell_type": "code",
      "source": [
        "print(\"Categories in 'gender' variable:     \",end=\" \" )\n",
        "print(df['gender'].unique())\n",
        "\n",
        "print(\"Categories in 'race_ethnicity' variable:  \",end=\" \")\n",
        "print(df['race_ethnicity'].unique())\n",
        "\n",
        "print(\"Categories in'parental level of education' variable:\",end=\" \" )\n",
        "print(df['parental_level_of_education'].unique())\n",
        "\n",
        "print(\"Categories in 'lunch' variable:     \",end=\" \" )\n",
        "print(df['lunch'].unique())\n",
        "\n",
        "print(\"Categories in 'test preparation course' variable:     \",end=\" \" )\n",
        "print(df['test_preparation_course'].unique())"
      ],
      "metadata": {
        "id": "dmymb-8aki7H"
      },
      "execution_count": null,
      "outputs": []
    },
    {
      "cell_type": "code",
      "source": [
        "y=df['math_score']"
      ],
      "metadata": {
        "id": "Dw02UW61kmzC"
      },
      "execution_count": null,
      "outputs": []
    },
    {
      "cell_type": "code",
      "source": [
        "y"
      ],
      "metadata": {
        "id": "1tLddH-okqhk"
      },
      "execution_count": null,
      "outputs": []
    },
    {
      "cell_type": "code",
      "source": [
        "# Create Column Transformer with 3 types of transformers\n",
        "num_features=X.select_dtypes(exclude='object').columns\n",
        "cat_features=X.select_dtypes(include='object').columns\n",
        "from sklearn.preprocessing import OneHotEncoder,StandardScaler\n",
        "from sklearn.compose import ColumnTransformer\n",
        "numeric_transformer=StandardScaler()\n",
        "oh_transformer=OneHotEncoder()\n",
        "preprocessor=ColumnTransformer(\n",
        "    [\n",
        "         (\"OneHotEncoder\", oh_transformer, cat_features),\n",
        "         (\"StandardScaler\", numeric_transformer, num_features),\n",
        "    ]\n",
        ")"
      ],
      "metadata": {
        "id": "wiZbNe6okr_X"
      },
      "execution_count": null,
      "outputs": []
    },
    {
      "cell_type": "code",
      "source": [
        "X=preprocessor.fit_transform(X)"
      ],
      "metadata": {
        "id": "HeJHC4FslWdG"
      },
      "execution_count": null,
      "outputs": []
    },
    {
      "cell_type": "code",
      "source": [
        "X.shape"
      ],
      "metadata": {
        "id": "IFGi4WkGlaka"
      },
      "execution_count": null,
      "outputs": []
    },
    {
      "cell_type": "code",
      "source": [
        "# separate dataset into train and test\n",
        "from sklearn.model_selection import train_test_split\n",
        "X_train, X_test, y_train, y_test = train_test_split(X, y, test_size=0.2, random_state=42)\n"
      ],
      "metadata": {
        "id": "TXk74eHolcAZ"
      },
      "execution_count": null,
      "outputs": []
    },
    {
      "cell_type": "code",
      "source": [
        "print(X_train.shape)\n",
        "print(X_test.shape)\n",
        "print(y_train.shape)\n",
        "print(y_test.shape)"
      ],
      "metadata": {
        "id": "COwcbH3MlqLz"
      },
      "execution_count": null,
      "outputs": []
    },
    {
      "cell_type": "code",
      "source": [
        "def evaluate_model(true, predicted):\n",
        "    mae = mean_absolute_error(true, predicted)\n",
        "    mse = mean_squared_error(true,predicted)\n",
        "    rmse = np.sqrt(mean_squared_error(true,predicted))\n",
        "    r2_square = r2_score(true,predicted)\n",
        "    return mae, rmse, r2_square"
      ],
      "metadata": {
        "id": "20OKL4Zyls8J"
      },
      "execution_count": null,
      "outputs": []
    },
    {
      "cell_type": "code",
      "source": [
        "models = {\n",
        "    \"Linear Regression\": LinearRegression(),\n",
        "    \"Lasso\": Lasso(),\n",
        "    \"Ridge\": Ridge(),\n",
        "    \"K-Neighbors Regressor\": KNeighborsRegressor(),\n",
        "    \"Decision Tree\": DecisionTreeRegressor(),\n",
        "    \"Random Forest Regressor\": RandomForestRegressor(),\n",
        "    \"XGBRegressor\": XGBRegressor(),\n",
        "    \"CatBoosting Regressor\": CatBoostRegressor(verbose=False),\n",
        "    \"AdaBoost Regressor\": AdaBoostRegressor()\n",
        "}\n",
        "model_list = []\n",
        "r2_list =[]\n",
        "\n",
        "for i in range(len(list(models))):\n",
        "    model = list(models.values())[i]\n",
        "    model.fit(X_train, y_train) # Train model\n",
        "\n",
        "    # Make predictions\n",
        "    y_train_pred = model.predict(X_train)\n",
        "    y_test_pred = model.predict(X_test)\n",
        "\n",
        "    # Evaluate Train and Test dataset\n",
        "    model_train_mae , model_train_rmse, model_train_r2 = evaluate_model(y_train, y_train_pred)\n",
        "\n",
        "    model_test_mae , model_test_rmse, model_test_r2 = evaluate_model(y_test, y_test_pred)\n",
        "\n",
        "\n",
        "    print(list(models.keys())[i])\n",
        "    model_list.append(list(models.keys())[i])\n",
        "\n",
        "    print('Model performance for Training set')\n",
        "    print(\"- Root Mean Squared Error: {:.4f}\".format(model_train_rmse))\n",
        "    print(\"- Mean Absolute Error: {:.4f}\".format(model_train_mae))\n",
        "    print(\"- R2 Score: {:.4f}\".format(model_train_r2))\n",
        "\n",
        "    print('----------------------------------')\n",
        "\n",
        "    print('Model performance for Test set')\n",
        "    print(\"- Root Mean Squared Error: {:.4f}\".format(model_test_rmse))\n",
        "    print(\"- Mean Absolute Error: {:.4f}\".format(model_test_mae))\n",
        "    print(\"- R2 Score: {:.4f}\".format(model_test_r2))\n",
        "    r2_list.append(model_test_r2)\n",
        "\n",
        "    print('='*35)\n",
        "    print('\\n')"
      ],
      "metadata": {
        "id": "ZdgRtWvomS8r"
      },
      "execution_count": null,
      "outputs": []
    },
    {
      "cell_type": "code",
      "source": [
        "pd.DataFrame(list(zip(model_list, r2_list)), columns=['Model Name', 'R2_Score']).sort_values(by=[\"R2_Score\"],ascending=False)"
      ],
      "metadata": {
        "id": "WmaNDNtnntoi"
      },
      "execution_count": null,
      "outputs": []
    },
    {
      "cell_type": "code",
      "source": [
        "lr = LinearRegression(fit_intercept=True)\n",
        "lr= lr.fit(X_train, y_train)\n",
        "y_pred = lr.predict(X_test)\n",
        "score = r2_score(y_test, y_pred)*100\n",
        "print(\" Accuracy of the model is %.2f\" %score)"
      ],
      "metadata": {
        "id": "HxKGPmA6oG9H"
      },
      "execution_count": null,
      "outputs": []
    },
    {
      "cell_type": "code",
      "source": [
        "sns.set(style='whitegrid')  # or 'darkgrid', 'white', 'ticks', etc.\n",
        "\n",
        "plt.figure(figsize=(7,5))\n",
        "plt.scatter(y_test, y_pred, color='dodgerblue', alpha=0.6, edgecolor='k', s=80, label='Predictions')\n",
        "plt.plot([y_test.min(), y_test.max()], [y_test.min(), y_test.max()], 'r--', lw=2, label='Perfect Prediction')\n",
        "\n",
        "plt.xlabel('Actual Values', fontsize=12)\n",
        "plt.ylabel('Predicted Values', fontsize=12)\n",
        "plt.title('Actual vs Predicted Values', fontsize=14)\n",
        "plt.legend()\n",
        "plt.grid(True, linestyle='--', alpha=0.5)\n",
        "plt.tight_layout()\n",
        "plt.show()"
      ],
      "metadata": {
        "id": "LMsDmXXKoSxo"
      },
      "execution_count": null,
      "outputs": []
    },
    {
      "cell_type": "code",
      "source": [
        "sns.set(style='whitegrid')  # Alternatives: 'darkgrid', 'white', 'ticks'\n",
        "\n",
        "plt.figure(figsize=(8, 6))\n",
        "sns.regplot(x=y_test, y=y_pred, ci=None, color='crimson',\n",
        "            scatter_kws={'s': 70, 'alpha': 0.6, 'edgecolor': 'k'},\n",
        "            line_kws={'color': 'black', 'lw': 2, 'label': 'Regression Line'})\n",
        "\n",
        "plt.xlabel('Actual Values', fontsize=12)\n",
        "plt.ylabel('Predicted Values', fontsize=12)\n",
        "plt.title('Actual vs Predicted Regression Plot', fontsize=14)\n",
        "plt.legend()\n",
        "plt.grid(True, linestyle='--', alpha=0.5)\n",
        "plt.tight_layout()\n",
        "plt.show()"
      ],
      "metadata": {
        "id": "sdAfW75-oUvw"
      },
      "execution_count": null,
      "outputs": []
    },
    {
      "cell_type": "code",
      "source": [
        "pred_df=pd.DataFrame({'Actual Value':y_test,'Predicted Value':y_pred,'Difference':y_test-y_pred})\n",
        "pred_df"
      ],
      "metadata": {
        "id": "7Ul38yYfoXRT"
      },
      "execution_count": null,
      "outputs": []
    },
    {
      "cell_type": "code",
      "source": [],
      "metadata": {
        "id": "rFgYjWMMovQE"
      },
      "execution_count": null,
      "outputs": []
    }
  ]
}