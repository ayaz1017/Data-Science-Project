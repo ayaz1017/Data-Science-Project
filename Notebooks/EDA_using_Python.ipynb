{
  "nbformat": 4,
  "nbformat_minor": 0,
  "metadata": {
    "colab": {
      "private_outputs": true,
      "provenance": []
    },
    "kernelspec": {
      "name": "python3",
      "display_name": "Python 3"
    },
    "language_info": {
      "name": "python"
    }
  },
  "cells": [
    {
      "cell_type": "code",
      "execution_count": null,
      "metadata": {
        "id": "izos0TyE4VtV"
      },
      "outputs": [],
      "source": [
        "import numpy as np\n",
        "import pandas as pd\n",
        "import seaborn as sns\n",
        "import matplotlib.pyplot as plt\n",
        "%matplotlib inline\n",
        "import warnings\n",
        "warnings.filterwarnings('ignore')"
      ]
    },
    {
      "cell_type": "code",
      "source": [
        "df=pd.read_csv('stud.csv')"
      ],
      "metadata": {
        "id": "UglUaPWzR0NR"
      },
      "execution_count": null,
      "outputs": []
    },
    {
      "cell_type": "code",
      "source": [
        "df.head()"
      ],
      "metadata": {
        "id": "KvTJve8BR55w"
      },
      "execution_count": null,
      "outputs": []
    },
    {
      "cell_type": "code",
      "source": [
        "df.info()"
      ],
      "metadata": {
        "id": "iDeIaRy4R75c"
      },
      "execution_count": null,
      "outputs": []
    },
    {
      "cell_type": "code",
      "source": [
        "df.shape"
      ],
      "metadata": {
        "id": "WNY0FE92SKFe"
      },
      "execution_count": null,
      "outputs": []
    },
    {
      "cell_type": "code",
      "source": [
        "df.isnull().sum()"
      ],
      "metadata": {
        "id": "y3TOk7pLSCZR"
      },
      "execution_count": null,
      "outputs": []
    },
    {
      "cell_type": "code",
      "source": [
        "df.duplicated().sum()"
      ],
      "metadata": {
        "id": "YuFoQgK1SO8U"
      },
      "execution_count": null,
      "outputs": []
    },
    {
      "cell_type": "code",
      "source": [
        "df.nunique()"
      ],
      "metadata": {
        "id": "1JasyzXESTG2"
      },
      "execution_count": null,
      "outputs": []
    },
    {
      "cell_type": "code",
      "source": [
        "df.describe()"
      ],
      "metadata": {
        "id": "XIsYMeijSaIb"
      },
      "execution_count": null,
      "outputs": []
    },
    {
      "cell_type": "code",
      "source": [
        "#new columns\n",
        "df['total_score']=df['math_score']+df['reading_score']+df['writing_score']\n",
        "df['average_score']=df['total_score']/3\n",
        "df.head()"
      ],
      "metadata": {
        "id": "BGM4TqVwSduW"
      },
      "execution_count": null,
      "outputs": []
    },
    {
      "cell_type": "markdown",
      "source": [
        "Histogram and KDE"
      ],
      "metadata": {
        "id": "xXt_ZfoCTPqY"
      }
    },
    {
      "cell_type": "code",
      "source": [
        "#histogram for average score\n",
        "fig, axs = plt.subplots(1, 2, figsize=(15, 7))\n",
        "plt.subplot(121)\n",
        "sns.histplot(data=df, x='average_score',bins=30,kde=True,color='green')\n",
        "plt.subplot(122)\n",
        "sns.histplot(data=df, x='average_score',kde=True,hue='gender',color='pink')"
      ],
      "metadata": {
        "id": "LdkgX4vnS-KV"
      },
      "execution_count": null,
      "outputs": []
    },
    {
      "cell_type": "code",
      "source": [
        "#histogram for total score\n",
        "fig, axs = plt.subplots(1, 2, figsize=(15, 7))\n",
        "plt.subplot(121)\n",
        "sns.histplot(data=df, x='total_score',bins=30,kde=True,color='green')\n",
        "plt.subplot(122)\n",
        "sns.histplot(data=df, x='total_score',kde=True,hue='gender',color='pink')"
      ],
      "metadata": {
        "id": "GBCynqArTDv9"
      },
      "execution_count": null,
      "outputs": []
    },
    {
      "cell_type": "code",
      "source": [
        "plt.subplots(1,3,figsize=(25,6))\n",
        "plt.subplot(141)\n",
        "sns.histplot(data=df,x='average_score',kde=True,hue='lunch')\n",
        "plt.subplot(142)\n",
        "sns.histplot(data=df[df.gender=='female'],x='average_score',kde=True,hue='lunch')\n",
        "plt.subplot(143)\n",
        "sns.histplot(data=df[df.gender=='male'],x='average_score',kde=True,hue='lunch')\n",
        "plt.show()"
      ],
      "metadata": {
        "id": "8Smv7UvlUMcL"
      },
      "execution_count": null,
      "outputs": []
    },
    {
      "cell_type": "code",
      "source": [
        "plt.subplots(1,3,figsize=(25,6))\n",
        "plt.subplot(141)\n",
        "ax =sns.histplot(data=df,x='average_score',kde=True,hue='parental_level_of_education')\n",
        "plt.subplot(142)\n",
        "ax =sns.histplot(data=df[df.gender=='male'],x='average_score',kde=True,hue='parental_level_of_education')\n",
        "plt.subplot(143)\n",
        "ax =sns.histplot(data=df[df.gender=='female'],x='average_score',kde=True,hue='parental_level_of_education')\n",
        "plt.show()"
      ],
      "metadata": {
        "id": "_VRGwlWvVUzp"
      },
      "execution_count": null,
      "outputs": []
    },
    {
      "cell_type": "code",
      "source": [
        "plt.subplots(1,3,figsize=(25,6))\n",
        "plt.subplot(141)\n",
        "ax =sns.histplot(data=df,x='average_score',kde=True,hue='race_ethnicity')\n",
        "plt.subplot(142)\n",
        "ax =sns.histplot(data=df[df.gender=='female'],x='average_score',kde=True,hue='race_ethnicity')\n",
        "plt.subplot(143)\n",
        "ax =sns.histplot(data=df[df.gender=='male'],x='average_score',kde=True,hue='race_ethnicity')\n",
        "plt.show()"
      ],
      "metadata": {
        "id": "DLrP4IpWWOr0"
      },
      "execution_count": null,
      "outputs": []
    },
    {
      "cell_type": "code",
      "source": [
        "plt.figure(figsize=(18,8))\n",
        "plt.subplot(1, 4, 1)\n",
        "plt.title('MATH SCORES')\n",
        "sns.violinplot(y='math_score',data=df,color='red',linewidth=3)\n",
        "plt.subplot(1, 4, 2)\n",
        "plt.title('READING SCORES')\n",
        "sns.violinplot(y='reading_score',data=df,color='green',linewidth=3)\n",
        "plt.subplot(1, 4, 3)\n",
        "plt.title('WRITING SCORES')\n",
        "sns.violinplot(y='writing_score',data=df,color='blue',linewidth=3)\n",
        "plt.show()"
      ],
      "metadata": {
        "id": "xwQTi7YeW16B"
      },
      "execution_count": null,
      "outputs": []
    },
    {
      "cell_type": "code",
      "source": [
        "plt.rcParams['figure.figsize'] = (30, 12)\n",
        "\n",
        "plt.subplot(1, 5, 1)\n",
        "size = df['gender'].value_counts()\n",
        "labels = 'Female', 'Male'\n",
        "color = ['red','green']\n",
        "\n",
        "\n",
        "plt.pie(size, colors = color, labels = labels,autopct = '.%2f%%')\n",
        "plt.title('Gender', fontsize = 20)\n",
        "plt.axis('off')\n",
        "\n",
        "\n",
        "\n",
        "plt.subplot(1, 5, 2)\n",
        "size = df['race_ethnicity'].value_counts()\n",
        "labels = 'Group C', 'Group D','Group B','Group E','Group A'\n",
        "color = ['red', 'green', 'blue', 'cyan','orange']\n",
        "\n",
        "plt.pie(size, colors = color,labels = labels,autopct = '.%2f%%')\n",
        "plt.title('race_ethnicity', fontsize = 20)\n",
        "plt.axis('off')\n",
        "\n",
        "\n",
        "\n",
        "plt.subplot(1, 5, 3)\n",
        "size = df['lunch'].value_counts()\n",
        "labels = 'Standard', 'Free'\n",
        "color = ['red','green']\n",
        "\n",
        "plt.pie(size, colors = color,labels = labels,autopct = '.%2f%%')\n",
        "plt.title('Lunch', fontsize = 20)\n",
        "plt.axis('off')\n",
        "\n",
        "\n",
        "plt.subplot(1, 5, 4)\n",
        "size = df['test_preparation_course'].value_counts()\n",
        "labels = 'None', 'Completed'\n",
        "color = ['red','green']\n",
        "\n",
        "plt.pie(size, colors = color,labels = labels,autopct = '.%2f%%')\n",
        "plt.title('Test Course', fontsize = 20)\n",
        "plt.axis('off')\n",
        "\n",
        "\n",
        "plt.subplot(1, 5, 5)\n",
        "size = df['parental_level_of_education'].value_counts()\n",
        "labels = 'Some College', \"Associate's Degree\",'High School','Some High School',\"Bachelor's Degree\",\"Master's Degree\"\n",
        "color = ['red', 'green', 'blue', 'cyan','orange','grey']\n",
        "\n",
        "plt.pie(size, colors = color,labels = labels,autopct = '.%2f%%')\n",
        "plt.title('Parental_Education', fontsize = 20)\n",
        "plt.axis('off')\n",
        "\n",
        "\n",
        "plt.tight_layout()\n",
        "plt.grid()\n",
        "\n",
        "plt.show()"
      ],
      "metadata": {
        "id": "sYOvjyHSXKGX"
      },
      "execution_count": null,
      "outputs": []
    },
    {
      "cell_type": "code",
      "source": [
        "gender_group = df.groupby('gender').mean(numeric_only=True)\n",
        "\n"
      ],
      "metadata": {
        "id": "e2K7bTTYYPtl"
      },
      "execution_count": null,
      "outputs": []
    },
    {
      "cell_type": "code",
      "source": [
        "gender_group"
      ],
      "metadata": {
        "id": "xH2O2cpWZAzN"
      },
      "execution_count": null,
      "outputs": []
    },
    {
      "cell_type": "code",
      "source": [
        "plt.figure(figsize=(8,4))\n",
        "\n",
        "X = ['Total Average','Math Average']\n",
        "\n",
        "\n",
        "female_scores = [gender_group['average_score'][0], gender_group['math_score'][0]]\n",
        "male_scores = [gender_group['average_score'][1], gender_group['math_score'][1]]\n",
        "\n",
        "X_axis = np.arange(len(X))\n",
        "\n",
        "plt.bar(X_axis - 0.2, male_scores, 0.4, label = 'Male')\n",
        "plt.bar(X_axis + 0.2, female_scores, 0.4, label = 'Female')\n",
        "\n",
        "plt.xticks(X_axis, X)\n",
        "plt.ylabel(\"Marks\")\n",
        "plt.title(\"Total average v/s Math average marks of both the genders\", fontweight='bold')\n",
        "plt.legend()\n",
        "plt.show()"
      ],
      "metadata": {
        "id": "A_Bj6lSgZevV"
      },
      "execution_count": null,
      "outputs": []
    },
    {
      "cell_type": "code",
      "source": [
        "f,ax=plt.subplots(1,2,figsize=(20,10))\n",
        "sns.countplot(x=df['race_ethnicity'],data=df,palette = 'bright',ax=ax[0],saturation=0.95)\n",
        "for container in ax[0].containers:\n",
        "    ax[0].bar_label(container,color='black',size=20)\n",
        "\n",
        "plt.pie(x = df['race_ethnicity'].value_counts(),labels=df['race_ethnicity'].value_counts().index,explode=[0.1,0,0,0,0],autopct='%1.1f%%',shadow=True)\n",
        "plt.show()"
      ],
      "metadata": {
        "id": "6hj5GR_6Zosr"
      },
      "execution_count": null,
      "outputs": []
    },
    {
      "cell_type": "code",
      "source": [
        "Group_data2=df.groupby('race_ethnicity')\n",
        "f,ax=plt.subplots(1,3,figsize=(20,8))\n",
        "sns.barplot(x=Group_data2['math_score'].mean().index,y=Group_data2['math_score'].mean().values,palette = 'mako',ax=ax[0])\n",
        "ax[0].set_title('Math score',color='#005ce6',size=20)\n",
        "\n",
        "for container in ax[0].containers:\n",
        "    ax[0].bar_label(container,color='black',size=15)\n",
        "\n",
        "sns.barplot(x=Group_data2['reading_score'].mean().index,y=Group_data2['reading_score'].mean().values,palette = 'flare',ax=ax[1])\n",
        "ax[1].set_title('Reading score',color='#005ce6',size=20)\n",
        "\n",
        "for container in ax[1].containers:\n",
        "    ax[1].bar_label(container,color='black',size=15)\n",
        "\n",
        "sns.barplot(x=Group_data2['writing_score'].mean().index,y=Group_data2['writing_score'].mean().values,palette = 'coolwarm',ax=ax[2])\n",
        "ax[2].set_title('Writing score',color='#005ce6',size=20)\n",
        "\n",
        "for container in ax[2].containers:\n",
        "    ax[2].bar_label(container,color='black',size=15)"
      ],
      "metadata": {
        "id": "D52Rv67iaHtv"
      },
      "execution_count": null,
      "outputs": []
    },
    {
      "cell_type": "code",
      "source": [
        "#What is educational background of student's parent ?\n",
        "plt.rcParams['figure.figsize']=(12,8)\n",
        "plt.style.use('fivethirtyeight')\n",
        "sns.countplot(x='parental_level_of_education',data=df,palette='bright')"
      ],
      "metadata": {
        "id": "a51FD7GianML"
      },
      "execution_count": null,
      "outputs": []
    },
    {
      "cell_type": "code",
      "source": [
        "#Is parental education has any impact on student's performance\n",
        "numeric_cols = df.select_dtypes(include='number').columns\n",
        "\n",
        "# Group by and calculate mean only on numeric columns\n",
        "df.groupby('parental_level_of_education')[numeric_cols].mean().plot(kind='barh', figsize=(8, 6))\n",
        "\n",
        "plt.legend(bbox_to_anchor=(1.05, 1), loc=2, borderaxespad=0.)\n",
        "plt.tight_layout()\n",
        "plt.show()\n",
        "#Master degree qualification parents child has scored more total marks than any other degree"
      ],
      "metadata": {
        "id": "LvqR12bzb2Rq"
      },
      "execution_count": null,
      "outputs": []
    },
    {
      "cell_type": "code",
      "source": [
        "#Which type of lunch is most common amoung students\n",
        "plt.rcParams['figure.figsize'] = (8,4)\n",
        "sns.countplot(df['lunch'], palette = 'PuBu')\n",
        "plt.title('Comparison of different types of lunch', fontweight = 30, fontsize = 20)\n",
        "plt.xlabel('types of lunch')\n",
        "plt.ylabel('count')\n",
        "plt.show()"
      ],
      "metadata": {
        "id": "0IIVa0eycoVz"
      },
      "execution_count": null,
      "outputs": []
    },
    {
      "cell_type": "code",
      "source": [
        "#Is lunch type intake has any impact on student's performance ?\n",
        "f,ax=plt.subplots(1,2,figsize=(20,8))\n",
        "sns.countplot(x=df['parental_level_of_education'],data=df,palette = 'bright',hue='test_preparation_course',saturation=0.95,ax=ax[0])\n",
        "ax[0].set_title('Students vs test preparation course ',color='black',size=25)\n",
        "for container in ax[0].containers:\n",
        "    ax[0].bar_label(container,color='black',size=20)\n",
        "\n",
        "sns.countplot(x=df['parental_level_of_education'],data=df,palette = 'bright',hue='lunch',saturation=0.95,ax=ax[1])\n",
        "for container in ax[1].containers:\n",
        "    ax[1].bar_label(container,color='black',size=20)"
      ],
      "metadata": {
        "id": "YwI-asZ2fv55"
      },
      "execution_count": null,
      "outputs": []
    },
    {
      "cell_type": "code",
      "source": [
        "#Is Test prepration course has any impact on student's performance ? )\n",
        "plt.figure(figsize=(20,12))\n",
        "plt.subplot(2,2,1)\n",
        "sns.barplot(x=df['lunch'],y=df['math_score'],hue=df['test_preparation_course'])\n",
        "plt.subplot(2,2,2)\n",
        "sns.barplot (x=df['lunch'], y=df['reading_score'], hue=df['test_preparation_course'])"
      ],
      "metadata": {
        "id": "o5Mq7PMse_ON"
      },
      "execution_count": null,
      "outputs": []
    },
    {
      "cell_type": "code",
      "source": [
        "plt.subplots(1,4,figsize=(16,5))\n",
        "plt.subplot(141)\n",
        "sns.boxplot(df['math_score'],color='skyblue')\n",
        "plt.subplot(142)\n",
        "sns.boxplot(df['reading_score'],color='hotpink')\n",
        "plt.subplot(143)\n",
        "sns.boxplot(df['writing_score'],color='yellow')\n",
        "plt.subplot(144)\n",
        "sns.boxplot(df['average_score'],color='lightgreen')\n",
        "plt.show()"
      ],
      "metadata": {
        "id": "nqlKDdGahX4m"
      },
      "execution_count": null,
      "outputs": []
    },
    {
      "cell_type": "code",
      "source": [
        "sns.pairplot(df,hue = 'gender')\n",
        "plt.show()"
      ],
      "metadata": {
        "id": "YojEFDOqiBfM"
      },
      "execution_count": null,
      "outputs": []
    },
    {
      "cell_type": "code",
      "source": [],
      "metadata": {
        "id": "kgWD20t7iLca"
      },
      "execution_count": null,
      "outputs": []
    }
  ]
}